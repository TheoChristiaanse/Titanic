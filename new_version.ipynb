{
 "cells": [
  {
   "cell_type": "code",
   "execution_count": 1,
   "metadata": {
    "_cell_guid": "b1076dfc-b9ad-4769-8c92-a6c4dae69d19",
    "_uuid": "8f2839f25d086af736a60e9eeb907d3b93b6e0e5"
   },
   "outputs": [],
   "source": [
    "# This Python 3 environment comes with many helpful analytics libraries installed\n",
    "# It is defined by the kaggle/python Docker image: https://github.com/kaggle/docker-python\n",
    "# For example, here's several helpful packages to load\n",
    "\n",
    "import numpy as np # linear algebra\n",
    "import pandas as pd # data processing, CSV file I/O (e.g. pd.read_csv)\n",
    "\n",
    "# Input data files are available in the read-only \"../input/\" directory\n",
    "# For example, running this (by clicking run or pressing Shift+Enter) will list all files under the input directory\n",
    "\n",
    "# import os\n",
    "# for dirname, _, filenames in os.walk('/kaggle/input'):\n",
    "#     for filename in filenames:\n",
    "#         print(os.path.join(dirname, filename))\n",
    "\n",
    "# You can write up to 20GB to the current directory (c) that gets preserved as output when you create a version using \"Save & Run All\" \n",
    "# You can also write temporary files to /kaggle/temp/, but they won't be saved outside of the current session"
   ]
  },
  {
   "cell_type": "code",
   "execution_count": 2,
   "metadata": {},
   "outputs": [],
   "source": [
    "import math\n",
    "import numpy as np\n",
    "import h5py\n",
    "import matplotlib.pyplot as plt\n",
    "from matplotlib.pyplot import imread\n",
    "from PIL import Image\n",
    "import pandas as pd\n",
    "import tensorflow as tf\n",
    "import tensorflow.keras.layers as tfl\n",
    "from tensorflow.python.framework import ops\n",
    "\n",
    "\n",
    "%matplotlib inline\n",
    "np.random.seed(1)"
   ]
  },
  {
   "cell_type": "code",
   "execution_count": 3,
   "metadata": {
    "execution": {
     "iopub.execute_input": "2023-11-04T08:59:37.219747Z",
     "iopub.status.busy": "2023-11-04T08:59:37.217850Z",
     "iopub.status.idle": "2023-11-04T08:59:37.251366Z",
     "shell.execute_reply": "2023-11-04T08:59:37.250225Z",
     "shell.execute_reply.started": "2023-11-04T08:59:37.219672Z"
    }
   },
   "outputs": [
    {
     "name": "stdout",
     "output_type": "stream",
     "text": [
      "Index(['PassengerId', 'Survived', 'Pclass', 'Name', 'Sex', 'Age', 'SibSp',\n",
      "       'Parch', 'Ticket', 'Fare', 'Cabin', 'Embarked'],\n",
      "      dtype='object')\n"
     ]
    }
   ],
   "source": [
    "train = pd.read_csv('train.csv')\n",
    "test = pd.read_csv('test.csv')\n",
    "y_train = train['Survived']\n",
    "print(train.columns)"
   ]
  },
  {
   "cell_type": "markdown",
   "metadata": {},
   "source": [
    "# explore the data"
   ]
  },
  {
   "cell_type": "code",
   "execution_count": 4,
   "metadata": {},
   "outputs": [],
   "source": [
    "y_train = train['Survived']\n",
    "train = train.loc[:, train.columns != 'Survived']"
   ]
  },
  {
   "cell_type": "markdown",
   "metadata": {},
   "source": []
  },
  {
   "cell_type": "code",
   "execution_count": 58,
   "metadata": {},
   "outputs": [],
   "source": [
    "from sklearn.model_selection import train_test_split\n",
    "train, dev, y_train, y_dev = train_test_split(\n",
    "    train.loc[:, train.columns != 'Survived'], train['Survived'], test_size=0.01, random_state=0)"
   ]
  },
  {
   "cell_type": "code",
   "execution_count": 59,
   "metadata": {},
   "outputs": [
    {
     "data": {
      "text/plain": [
       "(     PassengerId  Pclass                                             Name  \\\n",
       " 367          368       3                   Moussa, Mrs. (Mantoura Boulos)   \n",
       " 704          705       3                          Hansen, Mr. Henrik Juul   \n",
       " 346          347       2                        Smith, Miss. Marion Elsie   \n",
       " 196          197       3                              Mernagh, Mr. Robert   \n",
       " 535          536       2                           Hart, Miss. Eva Miriam   \n",
       " ..           ...     ...                                              ...   \n",
       " 835          836       1                      Compton, Miss. Sara Rebecca   \n",
       " 192          193       3  Andersen-Jensen, Miss. Carla Christine Nielsine   \n",
       " 629          630       3                         O'Connell, Mr. Patrick D   \n",
       " 559          560       3     de Messemaeker, Mrs. Guillaume Joseph (Emma)   \n",
       " 684          685       2                Brown, Mr. Thomas William Solomon   \n",
       " \n",
       "         Sex   Age  SibSp  Parch        Ticket     Fare Cabin Embarked  \n",
       " 367  female   NaN      0      0          2626   7.2292   NaN        C  \n",
       " 704    male  26.0      1      0        350025   7.8542   NaN        S  \n",
       " 346  female  40.0      0      0         31418  13.0000   NaN        S  \n",
       " 196    male   NaN      0      0        368703   7.7500   NaN        Q  \n",
       " 535  female   7.0      0      2  F.C.C. 13529  26.2500   NaN        S  \n",
       " ..      ...   ...    ...    ...           ...      ...   ...      ...  \n",
       " 835  female  39.0      1      1      PC 17756  83.1583   E49        C  \n",
       " 192  female  19.0      1      0        350046   7.8542   NaN        S  \n",
       " 629    male   NaN      0      0        334912   7.7333   NaN        Q  \n",
       " 559  female  36.0      1      0        345572  17.4000   NaN        S  \n",
       " 684    male  60.0      1      1         29750  39.0000   NaN        S  \n",
       " \n",
       " [882 rows x 11 columns],\n",
       "      PassengerId  Pclass                                            Name  \\\n",
       " 495          496       3                           Yousseff, Mr. Gerious   \n",
       " 648          649       3                              Willey, Mr. Edward   \n",
       " 278          279       3                              Rice, Master. Eric   \n",
       " 31            32       1  Spencer, Mrs. William Augustus (Marie Eugenie)   \n",
       " 255          256       3         Touma, Mrs. Darwis (Hanne Youssef Razi)   \n",
       " 298          299       1                           Saalfeld, Mr. Adolphe   \n",
       " 609          610       1                       Shutes, Miss. Elizabeth W   \n",
       " 318          319       1                        Wick, Miss. Mary Natalie   \n",
       " 484          485       1                         Bishop, Mr. Dickinson H   \n",
       " \n",
       "         Sex   Age  SibSp  Parch         Ticket      Fare Cabin Embarked  \n",
       " 495    male   NaN      0      0           2627   14.4583   NaN        C  \n",
       " 648    male   NaN      0      0  S.O./P.P. 751    7.5500   NaN        S  \n",
       " 278    male   7.0      4      1         382652   29.1250   NaN        Q  \n",
       " 31   female   NaN      1      0       PC 17569  146.5208   B78        C  \n",
       " 255  female  29.0      0      2           2650   15.2458   NaN        C  \n",
       " 298    male   NaN      0      0          19988   30.5000  C106        S  \n",
       " 609  female  40.0      0      0       PC 17582  153.4625  C125        S  \n",
       " 318  female  31.0      0      2          36928  164.8667    C7        S  \n",
       " 484    male  25.0      1      0          11967   91.0792   B49        C  )"
      ]
     },
     "execution_count": 59,
     "metadata": {},
     "output_type": "execute_result"
    }
   ],
   "source": [
    "train, dev"
   ]
  },
  {
   "cell_type": "code",
   "execution_count": 5,
   "metadata": {
    "execution": {
     "iopub.execute_input": "2023-11-04T08:59:37.254066Z",
     "iopub.status.busy": "2023-11-04T08:59:37.253258Z",
     "iopub.status.idle": "2023-11-04T08:59:37.265818Z",
     "shell.execute_reply": "2023-11-04T08:59:37.264274Z",
     "shell.execute_reply.started": "2023-11-04T08:59:37.254021Z"
    }
   },
   "outputs": [
    {
     "data": {
      "text/plain": [
       "0      0\n",
       "1      1\n",
       "2      1\n",
       "3      1\n",
       "4      0\n",
       "      ..\n",
       "886    0\n",
       "887    1\n",
       "888    0\n",
       "889    1\n",
       "890    0\n",
       "Name: Survived, Length: 891, dtype: int64"
      ]
     },
     "execution_count": 5,
     "metadata": {},
     "output_type": "execute_result"
    }
   ],
   "source": [
    "Y_train = y_train\n",
    "Y_train"
   ]
  },
  {
   "cell_type": "code",
   "execution_count": 6,
   "metadata": {
    "execution": {
     "iopub.execute_input": "2023-11-04T08:59:37.271102Z",
     "iopub.status.busy": "2023-11-04T08:59:37.269481Z",
     "iopub.status.idle": "2023-11-04T08:59:37.300864Z",
     "shell.execute_reply": "2023-11-04T08:59:37.299289Z",
     "shell.execute_reply.started": "2023-11-04T08:59:37.271000Z"
    }
   },
   "outputs": [],
   "source": [
    "def train_custom_linear_encoder(data):\n",
    "    \n",
    "    max_val = np.nanmax(data)\n",
    "    min_val = np.nanmin(data)\n",
    "    encoding_params = {'max_val':max_val,\n",
    "                       'min_val':min_val}\n",
    "    linear_encoded=(data-encoding_params['min_val'])/(\n",
    "        encoding_params['max_val']-encoding_params['min_val'])\n",
    "    \n",
    "    linear_encoded = linear_encoded.values.reshape(-1,1)\n",
    "    \n",
    "    # Added a mask to deal with Nan Values\n",
    "    mask=np.invert(np.isnan(linear_encoded))\n",
    "    linear_encoded=np.nan_to_num(linear_encoded)\n",
    "    \n",
    "    # output\n",
    "    return linear_encoded, mask, encoding_params\n",
    "\n",
    "def test_custom_linear_encoder(data,encoding_params):\n",
    "    linear_encoded=(data-encoding_params['min_val'])/(\n",
    "        encoding_params['max_val']-encoding_params['min_val'])\n",
    "    \n",
    "    linear_encoded = linear_encoded.values.reshape(-1,1)\n",
    "    \n",
    "    # Added a mask to deal with Nan Values\n",
    "    mask=np.invert(np.isnan(linear_encoded))\n",
    "    linear_encoded=np.nan_to_num(linear_encoded)\n",
    "    \n",
    "    #output\n",
    "    return linear_encoded, mask\n",
    "\n",
    "\n",
    "array1, mask, encoding_params = train_custom_linear_encoder(train['Age'])\n",
    "array2, mask = test_custom_linear_encoder(train['Age'], encoding_params)\n",
    "\n",
    "assert np.all(np.equal(array1,array2,))\n",
    "\n",
    "# integer encode\n",
    "def train_custom_binary_encoder(data):\n",
    "    unique_labels = data.unique()\n",
    "    encoding_params = {}\n",
    "    k=0\n",
    "    for labels in unique_labels:\n",
    "        encoding_params[labels] = k\n",
    "        k=k+1\n",
    "    encoding_params['other'] = k\n",
    "    one_hot = np.zeros((data.shape[0],len(encoding_params)))\n",
    "    mask = np.ones((data.shape[0],len(encoding_params)))\n",
    "    for i, row in enumerate(data):\n",
    "        one_hot[i,encoding_params[row]] = 1\n",
    "    return one_hot, mask, encoding_params\n",
    "\n",
    "def test_custom_binary_encoder(data, encoding_params):\n",
    "    one_hot = np.zeros((data.shape[0],len(encoding_params)))\n",
    "    mask = np.ones((data.shape[0],len(encoding_params)))\n",
    "    for i, row in enumerate(data):\n",
    "        try:\n",
    "            one_hot[i,encoding_params[row]] = 1\n",
    "        except:\n",
    "            one_hot[i,encoding_params['other']] = 1\n",
    "    return one_hot, mask\n",
    "\n",
    "array1, mask, encoding_params = train_custom_binary_encoder(train['Embarked'])\n",
    "array2, mask = test_custom_binary_encoder(train['Embarked'],encoding_params)\n",
    "assert np.all(np.equal(array1,array2,))"
   ]
  },
  {
   "cell_type": "code",
   "execution_count": 7,
   "metadata": {
    "execution": {
     "iopub.execute_input": "2023-11-04T09:00:45.699157Z",
     "iopub.status.busy": "2023-11-04T09:00:45.698682Z",
     "iopub.status.idle": "2023-11-04T09:00:45.730168Z",
     "shell.execute_reply": "2023-11-04T09:00:45.727464Z",
     "shell.execute_reply.started": "2023-11-04T09:00:45.699121Z"
    }
   },
   "outputs": [
    {
     "name": "stdout",
     "output_type": "stream",
     "text": [
      "(891, 2, 40)\n",
      "[{0: 0, 1: 1, 2: 2, 5: 3, 3: 4, 4: 5, 6: 6, 'other': 7}, {1: 0, 0: 1, 3: 2, 4: 3, 2: 4, 5: 5, 8: 6, 'other': 7}, {'S': 0, 'C': 1, 'Q': 2, nan: 3, 'other': 4}, {3: 0, 1: 1, 2: 2, 'other': 3}, {'male': 0, 'female': 1, 'other': 2}, {'max_val': 512.3292, 'min_val': 0.0}, {'max_val': 80.0, 'min_val': 0.42}, {nan: 0, 'C': 1, 'E': 2, 'G': 3, 'D': 4, 'A': 5, 'B': 6, 'F': 7, 'T': 8, 'other': 9}]\n",
      "(418, 2, 40)\n"
     ]
    },
    {
     "name": "stderr",
     "output_type": "stream",
     "text": [
      "2023-11-06 11:01:13.416890: I metal_plugin/src/device/metal_device.cc:1154] Metal device set to: Apple M1\n",
      "2023-11-06 11:01:13.416917: I metal_plugin/src/device/metal_device.cc:296] systemMemory: 8.00 GB\n",
      "2023-11-06 11:01:13.416923: I metal_plugin/src/device/metal_device.cc:313] maxCacheSize: 2.67 GB\n",
      "2023-11-06 11:01:13.417140: I tensorflow/core/common_runtime/pluggable_device/pluggable_device_factory.cc:306] Could not identify NUMA node of platform GPU ID 0, defaulting to 0. Your kernel may not have been built with NUMA support.\n",
      "2023-11-06 11:01:13.417166: I tensorflow/core/common_runtime/pluggable_device/pluggable_device_factory.cc:272] Created TensorFlow device (/job:localhost/replica:0/task:0/device:GPU:0 with 0 MB memory) -> physical PluggableDevice (device: 0, name: METAL, pci bus id: <undefined>)\n"
     ]
    }
   ],
   "source": [
    "\n",
    "['Survived', 'Pclass', 'Name', 'Sex', 'Age', 'SibSp',\n",
    "       'Parch', 'Ticket', 'Fare', 'Cabin', 'Embarked']\n",
    "\n",
    "to_encode = {'Parch':'binary',\n",
    "             'SibSp':'binary',\n",
    "             'Embarked':'binary',\n",
    "             'Pclass':'binary',\n",
    "             'Sex':'binary',\n",
    "             'Fare':'linear',\n",
    "             'Age':'linear',\n",
    "             'Cabin':'cabin'}\n",
    "\n",
    "def train_pre_processor(pd_csv,to_encode):\n",
    "    \"\"\"\n",
    "    arguments\n",
    "        inputs -- straight from the input\n",
    "        \n",
    "    returns\n",
    "        outputs -- arguments to train\n",
    "    \"\"\"\n",
    "    encoders = []\n",
    "    encoded_data = []\n",
    "    encoder_mask = []\n",
    "    for encoder_key in to_encode.keys():\n",
    "        encoder_type = to_encode[encoder_key]\n",
    "        if encoder_type == 'binary':\n",
    "            encoded_col, mask, encoding_params = train_custom_binary_encoder(pd_csv[encoder_key])\n",
    "        elif encoder_type == 'linear':\n",
    "            encoded_col, mask, encoding_params = train_custom_linear_encoder(pd_csv[encoder_key])\n",
    "        elif encoder_type == 'cabin':\n",
    "            deck = pd_csv[encoder_key].str.slice(0,1)\n",
    "            encoded_col, mask, encoding_params = train_custom_binary_encoder(deck)\n",
    "        else:\n",
    "            encoded_col = np.reshape(pd_csv[encoder_key],(-1,1))\n",
    "            mask = np.ones((encoded_col.shape))\n",
    "            encoding_params = np.nan\n",
    "        encoders.append(encoding_params)\n",
    "        encoded_data.append(encoded_col)\n",
    "        encoder_mask.append(mask)\n",
    "\n",
    "    inputs_processed= np.concatenate(encoded_data,axis=1)\n",
    "    mask_processed = np.concatenate(encoder_mask,axis=1)\n",
    "    output = np.array([inputs_processed, mask_processed])\n",
    "    output = tf.transpose(output, perm=[1,0,2])\n",
    "    \n",
    "    return output, encoders\n",
    "\n",
    "X_train, encoders = train_pre_processor(train, to_encode)\n",
    "print(X_train.shape)\n",
    "print(encoders)\n",
    "\n",
    "\n",
    "def test_pre_processor(pd_csv,encoders, to_encode):\n",
    "    \"\"\"\n",
    "    arguments\n",
    "        inputs -- straight from the input\n",
    "        \n",
    "    returns\n",
    "        outputs -- arguments to train\n",
    "    \"\"\"\n",
    "    encoded_data = []\n",
    "    encoder_mask = []\n",
    "    k=0\n",
    "    for i, encoder_key in enumerate(to_encode.keys()):\n",
    "        encoder_type = to_encode[encoder_key]\n",
    "        encoding_params = encoders[i]\n",
    "        if encoder_type == 'binary':\n",
    "            encoded_col, mask = test_custom_binary_encoder(pd_csv[encoder_key],encoding_params)\n",
    "        elif encoder_type == 'linear':\n",
    "            encoded_col, mask = test_custom_linear_encoder(pd_csv[encoder_key],encoding_params)\n",
    "        elif encoder_type == 'cabin':\n",
    "            deck = pd_csv[encoder_key].str.slice(0,1)\n",
    "            encoded_col, mask = test_custom_binary_encoder(deck,encoding_params)\n",
    "        else:\n",
    "            encoded_col = np.reshape(pd_csv[encoder_key],(-1,1))\n",
    "            mask = np.ones((encoded_col.shape))\n",
    "            encoding_params = np.nan\n",
    "        encoded_data.append(encoded_col)\n",
    "        encoder_mask.append(mask)\n",
    "        \n",
    "\n",
    "    inputs_processed= np.concatenate(encoded_data,axis=1)\n",
    "    mask_processed = np.concatenate(encoder_mask,axis=1)\n",
    "    output = np.array([inputs_processed, mask_processed])\n",
    "    output = tf.transpose(output, perm=[1,0,2])\n",
    "    return output\n",
    "\n",
    "\n",
    "\n",
    "X_test = test_pre_processor(test, encoders, to_encode)\n",
    "print(X_test.shape)"
   ]
  },
  {
   "cell_type": "code",
   "execution_count": null,
   "metadata": {},
   "outputs": [],
   "source": []
  },
  {
   "cell_type": "code",
   "execution_count": 8,
   "metadata": {
    "execution": {
     "iopub.execute_input": "2023-11-04T09:01:31.712735Z",
     "iopub.status.busy": "2023-11-04T09:01:31.712283Z",
     "iopub.status.idle": "2023-11-04T09:01:31.722112Z",
     "shell.execute_reply": "2023-11-04T09:01:31.720364Z",
     "shell.execute_reply.started": "2023-11-04T09:01:31.712703Z"
    }
   },
   "outputs": [],
   "source": [
    "def oneLayerNN(a):\n",
    "    \"\"\"\n",
    "    Simple one layer neural network\n",
    "    \n",
    "    Arguments:\n",
    "    None\n",
    "\n",
    "    Returns:\n",
    "    model -- TF Keras model \n",
    "    \"\"\"\n",
    "    shape_ = a.shape\n",
    "    model = tf.keras.Sequential([\n",
    "            tfl.Input(shape=(shape_[1],shape_[2])),\n",
    "            tfl.Dense(50, activation='relu'),\n",
    "            tfl.Flatten(),\n",
    "            tfl.Dense(50, activation='relu'),\n",
    "            tfl.Dense(1, activation='sigmoid'),\n",
    "        ])\n",
    "    \n",
    "    return model"
   ]
  },
  {
   "cell_type": "code",
   "execution_count": 21,
   "metadata": {
    "execution": {
     "iopub.execute_input": "2023-11-04T09:01:32.641885Z",
     "iopub.status.busy": "2023-11-04T09:01:32.640713Z",
     "iopub.status.idle": "2023-11-04T09:01:32.709861Z",
     "shell.execute_reply": "2023-11-04T09:01:32.708015Z",
     "shell.execute_reply.started": "2023-11-04T09:01:32.641845Z"
    }
   },
   "outputs": [
    {
     "name": "stderr",
     "output_type": "stream",
     "text": [
      "WARNING:absl:At this time, the v2.11+ optimizer `tf.keras.optimizers.Adam` runs slowly on M1/M2 Macs, please use the legacy Keras optimizer instead, located at `tf.keras.optimizers.legacy.Adam`.\n"
     ]
    }
   ],
   "source": [
    "one_layer_nn = oneLayerNN(X_train)\n",
    "one_layer_nn.compile(optimizer=tf.keras.optimizers.Adam(learning_rate=1e-3),\n",
    "                   loss=tf.keras.losses.BinaryCrossentropy(),\n",
    "                   metrics=[tf.keras.metrics.BinaryAccuracy(),\n",
    "                       tf.keras.metrics.FalseNegatives()])"
   ]
  },
  {
   "cell_type": "code",
   "execution_count": 22,
   "metadata": {
    "execution": {
     "iopub.execute_input": "2023-11-04T09:01:35.732024Z",
     "iopub.status.busy": "2023-11-04T09:01:35.731571Z",
     "iopub.status.idle": "2023-11-04T09:01:35.764343Z",
     "shell.execute_reply": "2023-11-04T09:01:35.762546Z",
     "shell.execute_reply.started": "2023-11-04T09:01:35.731991Z"
    }
   },
   "outputs": [
    {
     "name": "stdout",
     "output_type": "stream",
     "text": [
      "Model: \"sequential_2\"\n",
      "_________________________________________________________________\n",
      " Layer (type)                Output Shape              Param #   \n",
      "=================================================================\n",
      " dense_6 (Dense)             (None, 2, 50)             2050      \n",
      "                                                                 \n",
      " flatten_2 (Flatten)         (None, 100)               0         \n",
      "                                                                 \n",
      " dense_7 (Dense)             (None, 50)                5050      \n",
      "                                                                 \n",
      " dense_8 (Dense)             (None, 1)                 51        \n",
      "                                                                 \n",
      "=================================================================\n",
      "Total params: 7151 (27.93 KB)\n",
      "Trainable params: 7151 (27.93 KB)\n",
      "Non-trainable params: 0 (0.00 Byte)\n",
      "_________________________________________________________________\n"
     ]
    }
   ],
   "source": [
    "one_layer_nn.summary()"
   ]
  },
  {
   "cell_type": "code",
   "execution_count": 23,
   "metadata": {
    "execution": {
     "iopub.execute_input": "2023-11-04T09:01:38.052537Z",
     "iopub.status.busy": "2023-11-04T09:01:38.052065Z",
     "iopub.status.idle": "2023-11-04T09:01:40.309768Z",
     "shell.execute_reply": "2023-11-04T09:01:40.308444Z",
     "shell.execute_reply.started": "2023-11-04T09:01:38.052505Z"
    }
   },
   "outputs": [
    {
     "name": "stdout",
     "output_type": "stream",
     "text": [
      "Epoch 1/200\n",
      " 1/28 [>.............................] - ETA: 11s - loss: 0.7259 - binary_accuracy: 0.4062 - false_negatives_2: 5.0000"
     ]
    },
    {
     "name": "stderr",
     "output_type": "stream",
     "text": [
      "2023-11-06 11:06:28.078953: E tensorflow/core/grappler/optimizers/meta_optimizer.cc:961] model_pruner failed: INVALID_ARGUMENT: Graph does not contain terminal node Adam/AssignAddVariableOp.\n"
     ]
    },
    {
     "name": "stdout",
     "output_type": "stream",
     "text": [
      "28/28 [==============================] - 1s 13ms/step - loss: 0.6633 - binary_accuracy: 0.6173 - false_negatives_2: 314.0000\n",
      "Epoch 2/200\n",
      "28/28 [==============================] - 0s 9ms/step - loss: 0.5792 - binary_accuracy: 0.7194 - false_negatives_2: 241.0000\n",
      "Epoch 3/200\n",
      "28/28 [==============================] - 0s 10ms/step - loss: 0.5007 - binary_accuracy: 0.7823 - false_negatives_2: 130.0000\n",
      "Epoch 4/200\n",
      "28/28 [==============================] - 0s 9ms/step - loss: 0.4664 - binary_accuracy: 0.7912 - false_negatives_2: 113.0000\n",
      "Epoch 5/200\n",
      "28/28 [==============================] - 0s 9ms/step - loss: 0.4574 - binary_accuracy: 0.8025 - false_negatives_2: 110.0000\n",
      "Epoch 6/200\n",
      "28/28 [==============================] - 0s 9ms/step - loss: 0.4405 - binary_accuracy: 0.8081 - false_negatives_2: 98.0000\n",
      "Epoch 7/200\n",
      "28/28 [==============================] - 0s 9ms/step - loss: 0.4379 - binary_accuracy: 0.8114 - false_negatives_2: 95.0000\n",
      "Epoch 8/200\n",
      "28/28 [==============================] - 0s 9ms/step - loss: 0.4330 - binary_accuracy: 0.8148 - false_negatives_2: 100.0000\n",
      "Epoch 9/200\n",
      "28/28 [==============================] - 0s 9ms/step - loss: 0.4300 - binary_accuracy: 0.8126 - false_negatives_2: 105.0000\n",
      "Epoch 10/200\n",
      "28/28 [==============================] - 0s 9ms/step - loss: 0.4282 - binary_accuracy: 0.8126 - false_negatives_2: 105.0000\n",
      "Epoch 11/200\n",
      "28/28 [==============================] - 0s 9ms/step - loss: 0.4283 - binary_accuracy: 0.8238 - false_negatives_2: 98.0000\n",
      "Epoch 12/200\n",
      "28/28 [==============================] - 0s 9ms/step - loss: 0.4210 - binary_accuracy: 0.8215 - false_negatives_2: 100.0000\n",
      "Epoch 13/200\n",
      "28/28 [==============================] - 0s 10ms/step - loss: 0.4164 - binary_accuracy: 0.8204 - false_negatives_2: 104.0000\n",
      "Epoch 14/200\n",
      "28/28 [==============================] - 0s 9ms/step - loss: 0.4127 - binary_accuracy: 0.8215 - false_negatives_2: 102.0000\n",
      "Epoch 15/200\n",
      "28/28 [==============================] - 0s 9ms/step - loss: 0.4099 - binary_accuracy: 0.8305 - false_negatives_2: 101.0000\n",
      "Epoch 16/200\n",
      "28/28 [==============================] - 0s 9ms/step - loss: 0.4081 - binary_accuracy: 0.8294 - false_negatives_2: 103.0000\n",
      "Epoch 17/200\n",
      "28/28 [==============================] - 0s 9ms/step - loss: 0.4066 - binary_accuracy: 0.8328 - false_negatives_2: 98.0000\n",
      "Epoch 18/200\n",
      "28/28 [==============================] - 0s 9ms/step - loss: 0.4027 - binary_accuracy: 0.8339 - false_negatives_2: 101.0000\n",
      "Epoch 19/200\n",
      "28/28 [==============================] - 0s 9ms/step - loss: 0.3988 - binary_accuracy: 0.8361 - false_negatives_2: 100.0000\n",
      "Epoch 20/200\n",
      "28/28 [==============================] - 0s 9ms/step - loss: 0.3942 - binary_accuracy: 0.8418 - false_negatives_2: 92.0000\n",
      "Epoch 21/200\n",
      "28/28 [==============================] - 0s 9ms/step - loss: 0.3938 - binary_accuracy: 0.8373 - false_negatives_2: 95.0000\n",
      "Epoch 22/200\n",
      "28/28 [==============================] - 0s 10ms/step - loss: 0.3918 - binary_accuracy: 0.8361 - false_negatives_2: 104.0000\n",
      "Epoch 23/200\n",
      "28/28 [==============================] - 0s 9ms/step - loss: 0.3912 - binary_accuracy: 0.8406 - false_negatives_2: 98.0000\n",
      "Epoch 24/200\n",
      "28/28 [==============================] - 0s 9ms/step - loss: 0.3956 - binary_accuracy: 0.8305 - false_negatives_2: 106.0000\n",
      "Epoch 25/200\n",
      "28/28 [==============================] - 0s 9ms/step - loss: 0.3846 - binary_accuracy: 0.8429 - false_negatives_2: 96.0000\n",
      "Epoch 26/200\n",
      "28/28 [==============================] - 0s 9ms/step - loss: 0.3809 - binary_accuracy: 0.8395 - false_negatives_2: 98.0000\n",
      "Epoch 27/200\n",
      "28/28 [==============================] - 0s 9ms/step - loss: 0.3813 - binary_accuracy: 0.8462 - false_negatives_2: 97.0000\n",
      "Epoch 28/200\n",
      "28/28 [==============================] - 0s 9ms/step - loss: 0.3831 - binary_accuracy: 0.8418 - false_negatives_2: 99.0000\n",
      "Epoch 29/200\n",
      "28/28 [==============================] - 0s 9ms/step - loss: 0.3779 - binary_accuracy: 0.8451 - false_negatives_2: 100.0000\n",
      "Epoch 30/200\n",
      "28/28 [==============================] - 0s 9ms/step - loss: 0.3805 - binary_accuracy: 0.8451 - false_negatives_2: 94.0000\n",
      "Epoch 31/200\n",
      "28/28 [==============================] - 0s 9ms/step - loss: 0.3823 - binary_accuracy: 0.8519 - false_negatives_2: 98.0000\n",
      "Epoch 32/200\n",
      "28/28 [==============================] - 0s 10ms/step - loss: 0.3834 - binary_accuracy: 0.8406 - false_negatives_2: 95.0000\n",
      "Epoch 33/200\n",
      "28/28 [==============================] - 0s 9ms/step - loss: 0.3710 - binary_accuracy: 0.8530 - false_negatives_2: 94.0000\n",
      "Epoch 34/200\n",
      "28/28 [==============================] - 0s 9ms/step - loss: 0.3715 - binary_accuracy: 0.8462 - false_negatives_2: 96.0000\n",
      "Epoch 35/200\n",
      "28/28 [==============================] - 0s 9ms/step - loss: 0.3692 - binary_accuracy: 0.8440 - false_negatives_2: 98.0000\n",
      "Epoch 36/200\n",
      "28/28 [==============================] - 0s 9ms/step - loss: 0.3709 - binary_accuracy: 0.8474 - false_negatives_2: 95.0000\n",
      "Epoch 37/200\n",
      "28/28 [==============================] - 0s 9ms/step - loss: 0.3719 - binary_accuracy: 0.8541 - false_negatives_2: 90.0000\n",
      "Epoch 38/200\n",
      "28/28 [==============================] - 0s 9ms/step - loss: 0.3694 - binary_accuracy: 0.8485 - false_negatives_2: 94.0000\n",
      "Epoch 39/200\n",
      "28/28 [==============================] - 0s 9ms/step - loss: 0.3655 - binary_accuracy: 0.8440 - false_negatives_2: 90.0000\n",
      "Epoch 40/200\n",
      "28/28 [==============================] - 0s 9ms/step - loss: 0.3667 - binary_accuracy: 0.8507 - false_negatives_2: 94.0000\n",
      "Epoch 41/200\n",
      "28/28 [==============================] - 0s 10ms/step - loss: 0.3637 - binary_accuracy: 0.8474 - false_negatives_2: 95.0000\n",
      "Epoch 42/200\n",
      "28/28 [==============================] - 0s 9ms/step - loss: 0.3614 - binary_accuracy: 0.8530 - false_negatives_2: 94.0000\n",
      "Epoch 43/200\n",
      "28/28 [==============================] - 0s 9ms/step - loss: 0.3590 - binary_accuracy: 0.8496 - false_negatives_2: 91.0000\n",
      "Epoch 44/200\n",
      "28/28 [==============================] - 0s 9ms/step - loss: 0.3562 - binary_accuracy: 0.8485 - false_negatives_2: 87.0000\n",
      "Epoch 45/200\n",
      "28/28 [==============================] - 0s 9ms/step - loss: 0.3564 - binary_accuracy: 0.8541 - false_negatives_2: 91.0000\n",
      "Epoch 46/200\n",
      "28/28 [==============================] - 0s 9ms/step - loss: 0.3574 - binary_accuracy: 0.8563 - false_negatives_2: 93.0000\n",
      "Epoch 47/200\n",
      "28/28 [==============================] - 0s 9ms/step - loss: 0.3573 - binary_accuracy: 0.8496 - false_negatives_2: 88.0000\n",
      "Epoch 48/200\n",
      "28/28 [==============================] - 0s 9ms/step - loss: 0.3567 - binary_accuracy: 0.8608 - false_negatives_2: 89.0000\n",
      "Epoch 49/200\n",
      "28/28 [==============================] - 0s 9ms/step - loss: 0.3514 - binary_accuracy: 0.8563 - false_negatives_2: 86.0000\n",
      "Epoch 50/200\n",
      "28/28 [==============================] - 0s 10ms/step - loss: 0.3515 - binary_accuracy: 0.8575 - false_negatives_2: 88.0000\n",
      "Epoch 51/200\n",
      "28/28 [==============================] - 0s 9ms/step - loss: 0.3557 - binary_accuracy: 0.8507 - false_negatives_2: 89.0000\n",
      "Epoch 52/200\n",
      "28/28 [==============================] - 0s 9ms/step - loss: 0.3609 - binary_accuracy: 0.8519 - false_negatives_2: 89.0000\n",
      "Epoch 53/200\n",
      "28/28 [==============================] - 0s 9ms/step - loss: 0.3520 - binary_accuracy: 0.8541 - false_negatives_2: 89.0000\n",
      "Epoch 54/200\n",
      "28/28 [==============================] - 0s 9ms/step - loss: 0.3478 - binary_accuracy: 0.8563 - false_negatives_2: 89.0000\n",
      "Epoch 55/200\n",
      "28/28 [==============================] - 0s 9ms/step - loss: 0.3484 - binary_accuracy: 0.8519 - false_negatives_2: 89.0000\n",
      "Epoch 56/200\n",
      "28/28 [==============================] - 0s 9ms/step - loss: 0.3442 - binary_accuracy: 0.8631 - false_negatives_2: 86.0000\n",
      "Epoch 57/200\n",
      "28/28 [==============================] - 0s 9ms/step - loss: 0.3478 - binary_accuracy: 0.8507 - false_negatives_2: 90.0000\n",
      "Epoch 58/200\n",
      "28/28 [==============================] - 0s 9ms/step - loss: 0.3471 - binary_accuracy: 0.8530 - false_negatives_2: 93.0000\n",
      "Epoch 59/200\n",
      "28/28 [==============================] - 0s 10ms/step - loss: 0.3444 - binary_accuracy: 0.8653 - false_negatives_2: 86.0000\n",
      "Epoch 60/200\n",
      "28/28 [==============================] - 0s 9ms/step - loss: 0.3477 - binary_accuracy: 0.8563 - false_negatives_2: 88.0000\n",
      "Epoch 61/200\n",
      "28/28 [==============================] - 0s 9ms/step - loss: 0.3423 - binary_accuracy: 0.8653 - false_negatives_2: 83.0000\n",
      "Epoch 62/200\n",
      "28/28 [==============================] - 0s 9ms/step - loss: 0.3434 - binary_accuracy: 0.8586 - false_negatives_2: 88.0000\n",
      "Epoch 63/200\n",
      "28/28 [==============================] - 0s 9ms/step - loss: 0.3404 - binary_accuracy: 0.8676 - false_negatives_2: 84.0000\n",
      "Epoch 64/200\n",
      "28/28 [==============================] - 0s 9ms/step - loss: 0.3411 - binary_accuracy: 0.8541 - false_negatives_2: 84.0000\n",
      "Epoch 65/200\n",
      "28/28 [==============================] - 0s 9ms/step - loss: 0.3381 - binary_accuracy: 0.8642 - false_negatives_2: 86.0000\n",
      "Epoch 66/200\n",
      "28/28 [==============================] - 0s 9ms/step - loss: 0.3378 - binary_accuracy: 0.8664 - false_negatives_2: 88.0000\n",
      "Epoch 67/200\n",
      "28/28 [==============================] - 0s 10ms/step - loss: 0.3420 - binary_accuracy: 0.8653 - false_negatives_2: 87.0000\n",
      "Epoch 68/200\n",
      "28/28 [==============================] - 0s 9ms/step - loss: 0.3368 - binary_accuracy: 0.8597 - false_negatives_2: 83.0000\n",
      "Epoch 69/200\n",
      "28/28 [==============================] - 0s 9ms/step - loss: 0.3352 - binary_accuracy: 0.8620 - false_negatives_2: 90.0000\n",
      "Epoch 70/200\n",
      "28/28 [==============================] - 0s 9ms/step - loss: 0.3446 - binary_accuracy: 0.8519 - false_negatives_2: 86.0000\n",
      "Epoch 71/200\n",
      "28/28 [==============================] - 0s 9ms/step - loss: 0.3352 - binary_accuracy: 0.8642 - false_negatives_2: 86.0000\n",
      "Epoch 72/200\n",
      "28/28 [==============================] - 0s 9ms/step - loss: 0.3318 - binary_accuracy: 0.8586 - false_negatives_2: 88.0000\n",
      "Epoch 73/200\n",
      "28/28 [==============================] - 0s 9ms/step - loss: 0.3390 - binary_accuracy: 0.8586 - false_negatives_2: 78.0000\n",
      "Epoch 74/200\n",
      "28/28 [==============================] - 0s 9ms/step - loss: 0.3335 - binary_accuracy: 0.8620 - false_negatives_2: 88.0000\n",
      "Epoch 75/200\n",
      "28/28 [==============================] - 0s 10ms/step - loss: 0.3289 - binary_accuracy: 0.8721 - false_negatives_2: 78.0000\n",
      "Epoch 76/200\n",
      "28/28 [==============================] - 0s 9ms/step - loss: 0.3312 - binary_accuracy: 0.8642 - false_negatives_2: 88.0000\n",
      "Epoch 77/200\n",
      "28/28 [==============================] - 0s 9ms/step - loss: 0.3331 - binary_accuracy: 0.8664 - false_negatives_2: 80.0000\n",
      "Epoch 78/200\n",
      "28/28 [==============================] - 0s 9ms/step - loss: 0.3291 - binary_accuracy: 0.8676 - false_negatives_2: 81.0000\n",
      "Epoch 79/200\n",
      "28/28 [==============================] - 0s 9ms/step - loss: 0.3277 - binary_accuracy: 0.8709 - false_negatives_2: 81.0000\n",
      "Epoch 80/200\n",
      "28/28 [==============================] - 0s 9ms/step - loss: 0.3304 - binary_accuracy: 0.8631 - false_negatives_2: 79.0000\n",
      "Epoch 81/200\n",
      "28/28 [==============================] - 0s 9ms/step - loss: 0.3269 - binary_accuracy: 0.8642 - false_negatives_2: 84.0000\n",
      "Epoch 82/200\n",
      "28/28 [==============================] - 0s 9ms/step - loss: 0.3269 - binary_accuracy: 0.8721 - false_negatives_2: 75.0000\n",
      "Epoch 83/200\n",
      "28/28 [==============================] - 0s 10ms/step - loss: 0.3236 - binary_accuracy: 0.8687 - false_negatives_2: 90.0000\n",
      "Epoch 84/200\n",
      "28/28 [==============================] - 0s 9ms/step - loss: 0.3251 - binary_accuracy: 0.8642 - false_negatives_2: 83.0000\n",
      "Epoch 85/200\n",
      "28/28 [==============================] - 0s 9ms/step - loss: 0.3231 - binary_accuracy: 0.8721 - false_negatives_2: 75.0000\n",
      "Epoch 86/200\n",
      "28/28 [==============================] - 0s 9ms/step - loss: 0.3225 - binary_accuracy: 0.8721 - false_negatives_2: 82.0000\n",
      "Epoch 87/200\n",
      "28/28 [==============================] - 0s 9ms/step - loss: 0.3271 - binary_accuracy: 0.8721 - false_negatives_2: 81.0000\n",
      "Epoch 88/200\n",
      "28/28 [==============================] - 0s 9ms/step - loss: 0.3217 - binary_accuracy: 0.8743 - false_negatives_2: 76.0000\n",
      "Epoch 89/200\n",
      "28/28 [==============================] - 0s 9ms/step - loss: 0.3238 - binary_accuracy: 0.8687 - false_negatives_2: 85.0000\n",
      "Epoch 90/200\n",
      "28/28 [==============================] - 0s 9ms/step - loss: 0.3259 - binary_accuracy: 0.8664 - false_negatives_2: 85.0000\n",
      "Epoch 91/200\n",
      "28/28 [==============================] - 0s 10ms/step - loss: 0.3231 - binary_accuracy: 0.8721 - false_negatives_2: 75.0000\n",
      "Epoch 92/200\n",
      "28/28 [==============================] - 0s 9ms/step - loss: 0.3219 - binary_accuracy: 0.8709 - false_negatives_2: 82.0000\n",
      "Epoch 93/200\n",
      "28/28 [==============================] - 0s 9ms/step - loss: 0.3172 - binary_accuracy: 0.8743 - false_negatives_2: 80.0000\n",
      "Epoch 94/200\n",
      "28/28 [==============================] - 0s 9ms/step - loss: 0.3217 - binary_accuracy: 0.8597 - false_negatives_2: 85.0000\n",
      "Epoch 95/200\n",
      "28/28 [==============================] - 0s 9ms/step - loss: 0.3235 - binary_accuracy: 0.8754 - false_negatives_2: 73.0000\n",
      "Epoch 96/200\n",
      "28/28 [==============================] - 0s 9ms/step - loss: 0.3231 - binary_accuracy: 0.8631 - false_negatives_2: 85.0000\n",
      "Epoch 97/200\n",
      "28/28 [==============================] - 0s 9ms/step - loss: 0.3187 - binary_accuracy: 0.8765 - false_negatives_2: 73.0000\n",
      "Epoch 98/200\n",
      "28/28 [==============================] - 0s 9ms/step - loss: 0.3186 - binary_accuracy: 0.8765 - false_negatives_2: 77.0000\n",
      "Epoch 99/200\n",
      "28/28 [==============================] - 0s 10ms/step - loss: 0.3205 - binary_accuracy: 0.8676 - false_negatives_2: 82.0000\n",
      "Epoch 100/200\n",
      "28/28 [==============================] - 0s 9ms/step - loss: 0.3156 - binary_accuracy: 0.8664 - false_negatives_2: 77.0000\n",
      "Epoch 101/200\n",
      "28/28 [==============================] - 0s 9ms/step - loss: 0.3216 - binary_accuracy: 0.8676 - false_negatives_2: 77.0000\n",
      "Epoch 102/200\n",
      "28/28 [==============================] - 0s 9ms/step - loss: 0.3200 - binary_accuracy: 0.8799 - false_negatives_2: 73.0000\n",
      "Epoch 103/200\n",
      "28/28 [==============================] - 0s 9ms/step - loss: 0.3202 - binary_accuracy: 0.8721 - false_negatives_2: 80.0000\n",
      "Epoch 104/200\n",
      "28/28 [==============================] - 0s 9ms/step - loss: 0.3130 - binary_accuracy: 0.8799 - false_negatives_2: 79.0000\n",
      "Epoch 105/200\n",
      "28/28 [==============================] - 0s 9ms/step - loss: 0.3123 - binary_accuracy: 0.8698 - false_negatives_2: 78.0000\n",
      "Epoch 106/200\n",
      "28/28 [==============================] - 0s 9ms/step - loss: 0.3163 - binary_accuracy: 0.8620 - false_negatives_2: 82.0000\n",
      "Epoch 107/200\n",
      "28/28 [==============================] - 0s 10ms/step - loss: 0.3120 - binary_accuracy: 0.8765 - false_negatives_2: 80.0000\n",
      "Epoch 108/200\n",
      "28/28 [==============================] - 0s 9ms/step - loss: 0.3144 - binary_accuracy: 0.8732 - false_negatives_2: 78.0000\n",
      "Epoch 109/200\n",
      "28/28 [==============================] - 0s 9ms/step - loss: 0.3178 - binary_accuracy: 0.8732 - false_negatives_2: 74.0000\n",
      "Epoch 110/200\n",
      "28/28 [==============================] - 0s 9ms/step - loss: 0.3336 - binary_accuracy: 0.8765 - false_negatives_2: 75.0000\n",
      "Epoch 111/200\n",
      "28/28 [==============================] - 0s 9ms/step - loss: 0.3149 - binary_accuracy: 0.8799 - false_negatives_2: 74.0000\n",
      "Epoch 112/200\n",
      "28/28 [==============================] - 0s 9ms/step - loss: 0.3104 - binary_accuracy: 0.8799 - false_negatives_2: 78.0000\n",
      "Epoch 113/200\n",
      "28/28 [==============================] - 0s 9ms/step - loss: 0.3131 - binary_accuracy: 0.8754 - false_negatives_2: 81.0000\n",
      "Epoch 114/200\n",
      "28/28 [==============================] - 0s 9ms/step - loss: 0.3142 - binary_accuracy: 0.8664 - false_negatives_2: 81.0000\n",
      "Epoch 115/200\n",
      "28/28 [==============================] - 0s 10ms/step - loss: 0.3130 - binary_accuracy: 0.8732 - false_negatives_2: 78.0000\n",
      "Epoch 116/200\n",
      "28/28 [==============================] - 0s 9ms/step - loss: 0.3093 - binary_accuracy: 0.8777 - false_negatives_2: 78.0000\n",
      "Epoch 117/200\n",
      "28/28 [==============================] - 0s 9ms/step - loss: 0.3101 - binary_accuracy: 0.8709 - false_negatives_2: 86.0000\n",
      "Epoch 118/200\n",
      "28/28 [==============================] - 0s 9ms/step - loss: 0.3091 - binary_accuracy: 0.8721 - false_negatives_2: 79.0000\n",
      "Epoch 119/200\n",
      "28/28 [==============================] - 0s 9ms/step - loss: 0.3062 - binary_accuracy: 0.8765 - false_negatives_2: 73.0000\n",
      "Epoch 120/200\n",
      "28/28 [==============================] - 0s 9ms/step - loss: 0.3115 - binary_accuracy: 0.8743 - false_negatives_2: 81.0000\n",
      "Epoch 121/200\n",
      "28/28 [==============================] - 0s 9ms/step - loss: 0.3042 - binary_accuracy: 0.8844 - false_negatives_2: 71.0000\n",
      "Epoch 122/200\n",
      "28/28 [==============================] - 0s 10ms/step - loss: 0.3064 - binary_accuracy: 0.8833 - false_negatives_2: 74.0000\n",
      "Epoch 123/200\n",
      "28/28 [==============================] - 0s 9ms/step - loss: 0.3074 - binary_accuracy: 0.8743 - false_negatives_2: 84.0000\n",
      "Epoch 124/200\n",
      "28/28 [==============================] - 0s 9ms/step - loss: 0.3149 - binary_accuracy: 0.8754 - false_negatives_2: 76.0000\n",
      "Epoch 125/200\n",
      "28/28 [==============================] - 0s 9ms/step - loss: 0.3124 - binary_accuracy: 0.8799 - false_negatives_2: 70.0000\n",
      "Epoch 126/200\n",
      "28/28 [==============================] - 0s 9ms/step - loss: 0.3034 - binary_accuracy: 0.8866 - false_negatives_2: 74.0000\n",
      "Epoch 127/200\n",
      "28/28 [==============================] - 0s 9ms/step - loss: 0.3042 - binary_accuracy: 0.8833 - false_negatives_2: 74.0000\n",
      "Epoch 128/200\n",
      "28/28 [==============================] - 0s 9ms/step - loss: 0.3100 - binary_accuracy: 0.8765 - false_negatives_2: 77.0000\n",
      "Epoch 129/200\n",
      "28/28 [==============================] - 0s 10ms/step - loss: 0.3046 - binary_accuracy: 0.8788 - false_negatives_2: 73.0000\n",
      "Epoch 130/200\n",
      "28/28 [==============================] - 0s 9ms/step - loss: 0.3072 - binary_accuracy: 0.8777 - false_negatives_2: 74.0000\n",
      "Epoch 131/200\n",
      "28/28 [==============================] - 0s 9ms/step - loss: 0.3046 - binary_accuracy: 0.8754 - false_negatives_2: 79.0000\n",
      "Epoch 132/200\n",
      "28/28 [==============================] - 0s 9ms/step - loss: 0.3064 - binary_accuracy: 0.8777 - false_negatives_2: 73.0000\n",
      "Epoch 133/200\n",
      "28/28 [==============================] - 0s 9ms/step - loss: 0.3152 - binary_accuracy: 0.8743 - false_negatives_2: 81.0000\n",
      "Epoch 134/200\n",
      "28/28 [==============================] - 0s 9ms/step - loss: 0.3150 - binary_accuracy: 0.8833 - false_negatives_2: 72.0000\n",
      "Epoch 135/200\n",
      "28/28 [==============================] - 0s 9ms/step - loss: 0.3037 - binary_accuracy: 0.8709 - false_negatives_2: 84.0000\n",
      "Epoch 136/200\n",
      "28/28 [==============================] - 0s 9ms/step - loss: 0.3040 - binary_accuracy: 0.8765 - false_negatives_2: 76.0000\n",
      "Epoch 137/200\n",
      "28/28 [==============================] - 0s 10ms/step - loss: 0.3063 - binary_accuracy: 0.8754 - false_negatives_2: 79.0000\n",
      "Epoch 138/200\n",
      "28/28 [==============================] - 0s 9ms/step - loss: 0.3033 - binary_accuracy: 0.8743 - false_negatives_2: 77.0000\n",
      "Epoch 139/200\n",
      "28/28 [==============================] - 0s 9ms/step - loss: 0.3039 - binary_accuracy: 0.8866 - false_negatives_2: 71.0000\n",
      "Epoch 140/200\n",
      "28/28 [==============================] - 0s 9ms/step - loss: 0.3009 - binary_accuracy: 0.8788 - false_negatives_2: 77.0000\n",
      "Epoch 141/200\n",
      "28/28 [==============================] - 0s 9ms/step - loss: 0.3082 - binary_accuracy: 0.8664 - false_negatives_2: 80.0000\n",
      "Epoch 142/200\n",
      "28/28 [==============================] - 0s 9ms/step - loss: 0.3023 - binary_accuracy: 0.8810 - false_negatives_2: 80.0000\n",
      "Epoch 143/200\n",
      "28/28 [==============================] - 0s 9ms/step - loss: 0.3005 - binary_accuracy: 0.8732 - false_negatives_2: 81.0000\n",
      "Epoch 144/200\n",
      "28/28 [==============================] - 0s 10ms/step - loss: 0.3015 - binary_accuracy: 0.8721 - false_negatives_2: 79.0000\n",
      "Epoch 145/200\n",
      "28/28 [==============================] - 0s 9ms/step - loss: 0.3071 - binary_accuracy: 0.8732 - false_negatives_2: 86.0000\n",
      "Epoch 146/200\n",
      "28/28 [==============================] - 0s 9ms/step - loss: 0.3046 - binary_accuracy: 0.8743 - false_negatives_2: 72.0000\n",
      "Epoch 147/200\n",
      "28/28 [==============================] - 0s 9ms/step - loss: 0.2988 - binary_accuracy: 0.8799 - false_negatives_2: 76.0000\n",
      "Epoch 148/200\n",
      "28/28 [==============================] - 0s 9ms/step - loss: 0.2975 - binary_accuracy: 0.8765 - false_negatives_2: 81.0000\n",
      "Epoch 149/200\n",
      "28/28 [==============================] - 0s 9ms/step - loss: 0.2982 - binary_accuracy: 0.8822 - false_negatives_2: 72.0000\n",
      "Epoch 150/200\n",
      "28/28 [==============================] - 0s 9ms/step - loss: 0.2972 - binary_accuracy: 0.8822 - false_negatives_2: 75.0000\n",
      "Epoch 151/200\n",
      "28/28 [==============================] - 0s 9ms/step - loss: 0.3006 - binary_accuracy: 0.8732 - false_negatives_2: 77.0000\n",
      "Epoch 152/200\n",
      "28/28 [==============================] - 0s 10ms/step - loss: 0.3032 - binary_accuracy: 0.8754 - false_negatives_2: 76.0000\n",
      "Epoch 153/200\n",
      "28/28 [==============================] - 0s 9ms/step - loss: 0.2982 - binary_accuracy: 0.8765 - false_negatives_2: 74.0000\n",
      "Epoch 154/200\n",
      "28/28 [==============================] - 0s 9ms/step - loss: 0.2967 - binary_accuracy: 0.8844 - false_negatives_2: 80.0000\n",
      "Epoch 155/200\n",
      "28/28 [==============================] - 0s 9ms/step - loss: 0.3026 - binary_accuracy: 0.8833 - false_negatives_2: 69.0000\n",
      "Epoch 156/200\n",
      "28/28 [==============================] - 0s 9ms/step - loss: 0.2996 - binary_accuracy: 0.8799 - false_negatives_2: 76.0000\n",
      "Epoch 157/200\n",
      "28/28 [==============================] - 0s 9ms/step - loss: 0.3112 - binary_accuracy: 0.8822 - false_negatives_2: 68.0000\n",
      "Epoch 158/200\n",
      "28/28 [==============================] - 0s 10ms/step - loss: 0.2975 - binary_accuracy: 0.8900 - false_negatives_2: 72.0000\n",
      "Epoch 159/200\n",
      "28/28 [==============================] - 0s 9ms/step - loss: 0.2980 - binary_accuracy: 0.8833 - false_negatives_2: 77.0000\n",
      "Epoch 160/200\n",
      "28/28 [==============================] - 0s 9ms/step - loss: 0.2935 - binary_accuracy: 0.8754 - false_negatives_2: 78.0000\n",
      "Epoch 161/200\n",
      "28/28 [==============================] - 0s 9ms/step - loss: 0.2998 - binary_accuracy: 0.8754 - false_negatives_2: 80.0000\n",
      "Epoch 162/200\n",
      "28/28 [==============================] - 0s 9ms/step - loss: 0.2963 - binary_accuracy: 0.8822 - false_negatives_2: 70.0000\n",
      "Epoch 163/200\n",
      "28/28 [==============================] - 0s 9ms/step - loss: 0.2984 - binary_accuracy: 0.8855 - false_negatives_2: 69.0000\n",
      "Epoch 164/200\n",
      "28/28 [==============================] - 0s 9ms/step - loss: 0.2961 - binary_accuracy: 0.8799 - false_negatives_2: 75.0000\n",
      "Epoch 165/200\n",
      "28/28 [==============================] - 0s 10ms/step - loss: 0.2946 - binary_accuracy: 0.8788 - false_negatives_2: 79.0000\n",
      "Epoch 166/200\n",
      "28/28 [==============================] - 0s 9ms/step - loss: 0.2946 - binary_accuracy: 0.8754 - false_negatives_2: 80.0000\n",
      "Epoch 167/200\n",
      "28/28 [==============================] - 0s 9ms/step - loss: 0.2934 - binary_accuracy: 0.8754 - false_negatives_2: 81.0000\n",
      "Epoch 168/200\n",
      "28/28 [==============================] - 0s 9ms/step - loss: 0.2883 - binary_accuracy: 0.8878 - false_negatives_2: 69.0000\n",
      "Epoch 169/200\n",
      "28/28 [==============================] - 0s 9ms/step - loss: 0.2937 - binary_accuracy: 0.8788 - false_negatives_2: 77.0000\n",
      "Epoch 170/200\n",
      "28/28 [==============================] - 0s 9ms/step - loss: 0.2913 - binary_accuracy: 0.8788 - false_negatives_2: 74.0000\n",
      "Epoch 171/200\n",
      "28/28 [==============================] - 0s 9ms/step - loss: 0.2930 - binary_accuracy: 0.8788 - false_negatives_2: 75.0000\n",
      "Epoch 172/200\n",
      "28/28 [==============================] - 0s 10ms/step - loss: 0.2910 - binary_accuracy: 0.8788 - false_negatives_2: 79.0000\n",
      "Epoch 173/200\n",
      "28/28 [==============================] - 0s 9ms/step - loss: 0.2992 - binary_accuracy: 0.8732 - false_negatives_2: 75.0000\n",
      "Epoch 174/200\n",
      "28/28 [==============================] - 0s 9ms/step - loss: 0.2981 - binary_accuracy: 0.8799 - false_negatives_2: 74.0000\n",
      "Epoch 175/200\n",
      "28/28 [==============================] - 0s 9ms/step - loss: 0.2950 - binary_accuracy: 0.8765 - false_negatives_2: 81.0000\n",
      "Epoch 176/200\n",
      "28/28 [==============================] - 0s 9ms/step - loss: 0.2944 - binary_accuracy: 0.8777 - false_negatives_2: 78.0000\n",
      "Epoch 177/200\n",
      "28/28 [==============================] - 0s 9ms/step - loss: 0.2970 - binary_accuracy: 0.8777 - false_negatives_2: 73.0000\n",
      "Epoch 178/200\n",
      "28/28 [==============================] - 0s 9ms/step - loss: 0.2917 - binary_accuracy: 0.8799 - false_negatives_2: 76.0000\n",
      "Epoch 179/200\n",
      "28/28 [==============================] - 0s 10ms/step - loss: 0.2888 - binary_accuracy: 0.8754 - false_negatives_2: 82.0000\n",
      "Epoch 180/200\n",
      "28/28 [==============================] - 0s 9ms/step - loss: 0.2915 - binary_accuracy: 0.8833 - false_negatives_2: 73.0000\n",
      "Epoch 181/200\n",
      "28/28 [==============================] - 0s 9ms/step - loss: 0.2907 - binary_accuracy: 0.8765 - false_negatives_2: 76.0000\n",
      "Epoch 182/200\n",
      "28/28 [==============================] - 0s 9ms/step - loss: 0.2902 - binary_accuracy: 0.8799 - false_negatives_2: 81.0000\n",
      "Epoch 183/200\n",
      "28/28 [==============================] - 0s 9ms/step - loss: 0.2962 - binary_accuracy: 0.8833 - false_negatives_2: 67.0000\n",
      "Epoch 184/200\n",
      "28/28 [==============================] - 0s 9ms/step - loss: 0.2925 - binary_accuracy: 0.8810 - false_negatives_2: 79.0000\n",
      "Epoch 185/200\n",
      "28/28 [==============================] - 0s 9ms/step - loss: 0.2875 - binary_accuracy: 0.8844 - false_negatives_2: 71.0000\n",
      "Epoch 186/200\n",
      "28/28 [==============================] - 0s 10ms/step - loss: 0.2916 - binary_accuracy: 0.8777 - false_negatives_2: 75.0000\n",
      "Epoch 187/200\n",
      "28/28 [==============================] - 0s 9ms/step - loss: 0.2898 - binary_accuracy: 0.8866 - false_negatives_2: 73.0000\n",
      "Epoch 188/200\n",
      "28/28 [==============================] - 0s 9ms/step - loss: 0.2927 - binary_accuracy: 0.8844 - false_negatives_2: 69.0000\n",
      "Epoch 189/200\n",
      "28/28 [==============================] - 0s 9ms/step - loss: 0.2860 - binary_accuracy: 0.8799 - false_negatives_2: 74.0000\n",
      "Epoch 190/200\n",
      "28/28 [==============================] - 0s 9ms/step - loss: 0.2878 - binary_accuracy: 0.8788 - false_negatives_2: 75.0000\n",
      "Epoch 191/200\n",
      "28/28 [==============================] - 0s 9ms/step - loss: 0.2891 - binary_accuracy: 0.8765 - false_negatives_2: 76.0000\n",
      "Epoch 192/200\n",
      "28/28 [==============================] - 0s 9ms/step - loss: 0.2871 - binary_accuracy: 0.8754 - false_negatives_2: 78.0000\n",
      "Epoch 193/200\n",
      "28/28 [==============================] - 0s 10ms/step - loss: 0.2903 - binary_accuracy: 0.8822 - false_negatives_2: 73.0000\n",
      "Epoch 194/200\n",
      "28/28 [==============================] - 0s 9ms/step - loss: 0.2864 - binary_accuracy: 0.8709 - false_negatives_2: 76.0000\n",
      "Epoch 195/200\n",
      "28/28 [==============================] - 0s 9ms/step - loss: 0.2908 - binary_accuracy: 0.8754 - false_negatives_2: 77.0000\n",
      "Epoch 196/200\n",
      "28/28 [==============================] - 0s 9ms/step - loss: 0.2897 - binary_accuracy: 0.8754 - false_negatives_2: 80.0000\n",
      "Epoch 197/200\n",
      "28/28 [==============================] - 0s 9ms/step - loss: 0.2855 - binary_accuracy: 0.8878 - false_negatives_2: 74.0000\n",
      "Epoch 198/200\n",
      "28/28 [==============================] - 0s 9ms/step - loss: 0.2865 - binary_accuracy: 0.8822 - false_negatives_2: 74.0000\n",
      "Epoch 199/200\n",
      "28/28 [==============================] - 0s 9ms/step - loss: 0.2960 - binary_accuracy: 0.8709 - false_negatives_2: 78.0000\n",
      "Epoch 200/200\n",
      "28/28 [==============================] - 0s 9ms/step - loss: 0.2840 - binary_accuracy: 0.8799 - false_negatives_2: 78.0000\n"
     ]
    },
    {
     "data": {
      "text/plain": [
       "<keras.src.callbacks.History at 0x2954e5150>"
      ]
     },
     "execution_count": 23,
     "metadata": {},
     "output_type": "execute_result"
    }
   ],
   "source": [
    "one_layer_nn.fit(X_train, Y_train, epochs=200)"
   ]
  },
  {
   "cell_type": "code",
   "execution_count": 29,
   "metadata": {},
   "outputs": [
    {
     "ename": "NameError",
     "evalue": "name 'dev' is not defined",
     "output_type": "error",
     "traceback": [
      "\u001b[0;31m---------------------------------------------------------------------------\u001b[0m",
      "\u001b[0;31mNameError\u001b[0m                                 Traceback (most recent call last)",
      "\u001b[1;32m/Users/personal/Documents/kaggle competitions/Titanic/new_version.ipynb Cell 17\u001b[0m line \u001b[0;36m1\n\u001b[0;32m----> <a href='vscode-notebook-cell:/Users/personal/Documents/kaggle%20competitions/Titanic/new_version.ipynb#X31sZmlsZQ%3D%3D?line=0'>1</a>\u001b[0m X_dev \u001b[39m=\u001b[39m test_pre_processor(dev, encoders, to_encode)\n\u001b[1;32m      <a href='vscode-notebook-cell:/Users/personal/Documents/kaggle%20competitions/Titanic/new_version.ipynb#X31sZmlsZQ%3D%3D?line=1'>2</a>\u001b[0m Y_dev \u001b[39m=\u001b[39m one_layer_nn(X_dev)\n\u001b[1;32m      <a href='vscode-notebook-cell:/Users/personal/Documents/kaggle%20competitions/Titanic/new_version.ipynb#X31sZmlsZQ%3D%3D?line=2'>3</a>\u001b[0m y_devhat \u001b[39m=\u001b[39m Y_dev\u001b[39m>\u001b[39m\u001b[39m0.5\u001b[39m\n",
      "\u001b[0;31mNameError\u001b[0m: name 'dev' is not defined"
     ]
    }
   ],
   "source": [
    "X_dev = test_pre_processor(dev, encoders, to_encode)\n",
    "Y_dev = one_layer_nn(X_dev)\n",
    "y_devhat = Y_dev>0.5\n",
    "y_devhat = y_devhat.numpy()\n",
    "dev.shape"
   ]
  },
  {
   "cell_type": "code",
   "execution_count": 30,
   "metadata": {},
   "outputs": [
    {
     "ename": "NameError",
     "evalue": "name 'y_dev' is not defined",
     "output_type": "error",
     "traceback": [
      "\u001b[0;31m---------------------------------------------------------------------------\u001b[0m",
      "\u001b[0;31mNameError\u001b[0m                                 Traceback (most recent call last)",
      "\u001b[1;32m/Users/personal/Documents/kaggle competitions/Titanic/new_version.ipynb Cell 18\u001b[0m line \u001b[0;36m2\n\u001b[1;32m      <a href='vscode-notebook-cell:/Users/personal/Documents/kaggle%20competitions/Titanic/new_version.ipynb#X32sZmlsZQ%3D%3D?line=0'>1</a>\u001b[0m \u001b[39m# np.equal(y_dev,y_devhat)\u001b[39;00m\n\u001b[0;32m----> <a href='vscode-notebook-cell:/Users/personal/Documents/kaggle%20competitions/Titanic/new_version.ipynb#X32sZmlsZQ%3D%3D?line=1'>2</a>\u001b[0m series \u001b[39m=\u001b[39m np\u001b[39m.\u001b[39mequal(np\u001b[39m.\u001b[39mreshape(y_dev\u001b[39m.\u001b[39mto_numpy(),(\u001b[39m-\u001b[39m\u001b[39m1\u001b[39m,\u001b[39m1\u001b[39m)),y_devhat)\n\u001b[1;32m      <a href='vscode-notebook-cell:/Users/personal/Documents/kaggle%20competitions/Titanic/new_version.ipynb#X32sZmlsZQ%3D%3D?line=2'>3</a>\u001b[0m np\u001b[39m.\u001b[39msum(series)\u001b[39m/\u001b[39m\u001b[39mlen\u001b[39m(series)\n",
      "\u001b[0;31mNameError\u001b[0m: name 'y_dev' is not defined"
     ]
    }
   ],
   "source": [
    "# np.equal(y_dev,y_devhat)\n",
    "series = np.equal(np.reshape(y_dev.to_numpy(),(-1,1)),y_devhat)\n",
    "np.sum(series)/len(series)"
   ]
  },
  {
   "cell_type": "code",
   "execution_count": 31,
   "metadata": {
    "execution": {
     "iopub.execute_input": "2023-11-04T09:02:07.296474Z",
     "iopub.status.busy": "2023-11-04T09:02:07.296055Z",
     "iopub.status.idle": "2023-11-04T09:02:07.338812Z",
     "shell.execute_reply": "2023-11-04T09:02:07.337217Z",
     "shell.execute_reply.started": "2023-11-04T09:02:07.296443Z"
    }
   },
   "outputs": [
    {
     "data": {
      "text/plain": [
       "(418, 1)"
      ]
     },
     "execution_count": 31,
     "metadata": {},
     "output_type": "execute_result"
    }
   ],
   "source": [
    "X_test = test_pre_processor(test, encoders,to_encode)\n",
    "X_test = one_layer_nn(X_test)\n",
    "xresult = X_test>0.5\n",
    "x_result= xresult.numpy()\n",
    "x_result.shape"
   ]
  },
  {
   "cell_type": "code",
   "execution_count": 32,
   "metadata": {
    "execution": {
     "iopub.execute_input": "2023-11-04T09:02:08.671303Z",
     "iopub.status.busy": "2023-11-04T09:02:08.669610Z",
     "iopub.status.idle": "2023-11-04T09:02:08.683179Z",
     "shell.execute_reply": "2023-11-04T09:02:08.681200Z",
     "shell.execute_reply.started": "2023-11-04T09:02:08.671221Z"
    }
   },
   "outputs": [
    {
     "data": {
      "text/plain": [
       "(418, 1)"
      ]
     },
     "execution_count": 32,
     "metadata": {},
     "output_type": "execute_result"
    }
   ],
   "source": [
    "pass_id = test['PassengerId'].to_numpy()\n",
    "pass_col=pass_id.reshape(-1,1)\n",
    "pass_col.shape"
   ]
  },
  {
   "cell_type": "code",
   "execution_count": 33,
   "metadata": {
    "execution": {
     "iopub.execute_input": "2023-11-04T09:02:13.501631Z",
     "iopub.status.busy": "2023-11-04T09:02:13.499116Z",
     "iopub.status.idle": "2023-11-04T09:02:13.519289Z",
     "shell.execute_reply": "2023-11-04T09:02:13.517416Z",
     "shell.execute_reply.started": "2023-11-04T09:02:13.501554Z"
    }
   },
   "outputs": [
    {
     "name": "stdout",
     "output_type": "stream",
     "text": [
      "file saved at 2023-11-06 11:07:47.396452\n"
     ]
    }
   ],
   "source": [
    "import datetime\n",
    "data_result = np.concatenate((pass_col,x_result),axis=1)\n",
    "submission = pd.DataFrame(data_result,columns=[\"PassengerId\",\"Survived\"])\n",
    "submission.to_csv('submission.csv',index=False)\n",
    "print(f\"file saved at {datetime.datetime.now()}\")"
   ]
  },
  {
   "cell_type": "code",
   "execution_count": null,
   "metadata": {},
   "outputs": [],
   "source": []
  },
  {
   "cell_type": "code",
   "execution_count": null,
   "metadata": {},
   "outputs": [],
   "source": []
  }
 ],
 "metadata": {
  "kernelspec": {
   "display_name": "Python 3 (ipykernel)",
   "language": "python",
   "name": "python3"
  },
  "language_info": {
   "codemirror_mode": {
    "name": "ipython",
    "version": 3
   },
   "file_extension": ".py",
   "mimetype": "text/x-python",
   "name": "python",
   "nbconvert_exporter": "python",
   "pygments_lexer": "ipython3",
   "version": "3.11.6"
  }
 },
 "nbformat": 4,
 "nbformat_minor": 4
}
